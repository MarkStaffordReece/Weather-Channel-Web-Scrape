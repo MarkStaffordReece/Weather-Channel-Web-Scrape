#Weather Channel Every Minute Web Scrape

import requests
from bs4 import BeautifulSoup
import pandas as pd
import schedule
import time
import os.path

def scrape_weather():
    url = "https://weather.com/weather/today/l/093710c2d59ce4070fc2051b91da2057a1373070ced9d3373ff867aebee5e157"

    # Send a GET request to the URL
    response = requests.get(url)

    # Create a BeautifulSoup object to parse the HTML content
    soup = BeautifulSoup(response.content, "html.parser")

    # Find the temperature element on the page # Use HTML Tags to find this information
    temperature_element = soup.find("span", {"data-testid": "TemperatureValue"})

    # Extract the temperature value
    temperature = temperature_element.text.strip()

    # Get the current time
    current_time = pd.Timestamp.now().strftime('%Y-%m-%d %H:%M:%S')

    # Create a DataFrame with the new data
    data = {'Time': current_time, 'Temperature': temperature}
    df = pd.DataFrame([data])

    # Check if the CSV file exists and is not empty
    file_exists = os.path.isfile('RichmondVaDailyWeatherReport.csv')
    if file_exists and os.stat('RichmondVaDailyWeatherReport.csv').st_size > 0:
        existing_df = pd.read_csv('RichmondVaDailyWeatherReport.csv')
        df = pd.concat([existing_df, df], ignore_index=True)
    else:
        # Add column headers if the CSV file is empty or doesn't exist
        df.columns = ['Time', 'Temperature']

    # Save the DataFrame to the CSV file
    df.to_csv('RichmondVaDailyWeatherReport.csv', index=False)
    print("Weather data scraped successfully.")

# Define the number of minutes to run the scheduled tasks
num_minutes = 1440  # 24 hours x 60 minutes

# Create a loop to schedule tasks every minute
for minute in range(num_minutes):
    scheduled_time = pd.Timestamp.now().replace(hour=0, minute=0, second=0) + pd.DateOffset(minutes=minute)
    schedule.every().day.at(scheduled_time.strftime("%H:%M")).do(scrape_weather)




# Keep the script running to e5ecute scheduled tasks
while True:
    schedule.run_pending()
    time.sleep(1)
